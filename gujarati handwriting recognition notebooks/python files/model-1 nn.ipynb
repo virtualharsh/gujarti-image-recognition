{
 "cells": [
  {
   "cell_type": "markdown",
   "metadata": {
    "_cell_guid": "b1076dfc-b9ad-4769-8c92-a6c4dae69d19",
    "_uuid": "8f2839f25d086af736a60e9eeb907d3b93b6e0e5"
   },
   "source": [
    "# Importing required libraries"
   ]
  },
  {
   "cell_type": "code",
   "execution_count": 2,
   "metadata": {
    "execution": {
     "iopub.execute_input": "2023-03-31T05:29:07.985172Z",
     "iopub.status.busy": "2023-03-31T05:29:07.984768Z",
     "iopub.status.idle": "2023-03-31T05:29:08.721072Z",
     "shell.execute_reply": "2023-03-31T05:29:08.719858Z",
     "shell.execute_reply.started": "2023-03-31T05:29:07.985136Z"
    }
   },
   "outputs": [],
   "source": [
    "import numpy as np # for matrix calculations\n",
    "import os # for file hiearchy handling\n",
    "import matplotlib.pyplot as plt # plotting the images and data\n",
    "import matplotlib.image as mpimg # reading the images\n",
    "from  sklearn.model_selection import train_test_split # for preprocessing \n",
    "from PIL import Image # image processing\n",
    "import glob # file handing and folder scanner\n",
    "import cv2 # for converting images to matrix"
   ]
  },
  {
   "cell_type": "markdown",
   "metadata": {},
   "source": [
    "# Getting folder paths of each images in list"
   ]
  },
  {
   "cell_type": "code",
   "execution_count": 3,
   "metadata": {
    "execution": {
     "iopub.execute_input": "2023-03-31T05:29:11.342840Z",
     "iopub.status.busy": "2023-03-31T05:29:11.342293Z",
     "iopub.status.idle": "2023-03-31T05:29:11.363245Z",
     "shell.execute_reply": "2023-03-31T05:29:11.361867Z",
     "shell.execute_reply.started": "2023-03-31T05:29:11.342786Z"
    }
   },
   "outputs": [
    {
     "name": "stdout",
     "output_type": "stream",
     "text": [
      "['0', '1', '2', '3', '4', '5', '6', '7', '8', '9']\n"
     ]
    }
   ],
   "source": [
    "listOfSubNumberDict = os.listdir(\"/kaggle/input/practice2/imgs\")\n",
    "path = '/kaggle/input/practice2/imgs/'\n",
    "listOfSubNumberDict.sort()\n",
    "print(listOfSubNumberDict)"
   ]
  },
  {
   "cell_type": "markdown",
   "metadata": {},
   "source": [
    "# getting data from images and display images"
   ]
  },
  {
   "cell_type": "code",
   "execution_count": 9,
   "metadata": {
    "execution": {
     "iopub.execute_input": "2023-03-31T05:29:51.185185Z",
     "iopub.status.busy": "2023-03-31T05:29:51.184762Z",
     "iopub.status.idle": "2023-03-31T05:29:51.198704Z",
     "shell.execute_reply": "2023-03-31T05:29:51.197446Z",
     "shell.execute_reply.started": "2023-03-31T05:29:51.185148Z"
    }
   },
   "outputs": [
    {
     "name": "stdout",
     "output_type": "stream",
     "text": [
      "The height of the image is:  70\n",
      "The width of the image is:  50\n"
     ]
    },
    {
     "data": {
      "image/png": "[encoded data removed]",
      "text/plain": [
       "<PIL.JpegImagePlugin.JpegImageFile image mode=L size=50x70>"
      ]
     },
     "execution_count": 9,
     "metadata": {},
     "output_type": "execute_result"
    }
   ],
   "source": [
    "# getting views of images in dataset\n",
    "filepath = \"/kaggle/input/practice2/imgs/0/1.jpg\"\n",
    "img = Image.open(filepath)\n",
    "  \n",
    "# get width and height\n",
    "width = img.width\n",
    "height = img.height\n",
    "  \n",
    "# display width and height\n",
    "print(\"The height of the image is: \", height)\n",
    "print(\"The width of the image is: \", width)\n",
    "\n",
    "Image.open(\"/kaggle/input/practice2/imgs/0/1.jpg\")"
   ]
  },
  {
   "cell_type": "markdown",
   "metadata": {},
   "source": [
    "# finding number of images in each folder"
   ]
  },
  {
   "cell_type": "code",
   "execution_count": 11,
   "metadata": {
    "execution": {
     "iopub.execute_input": "2023-03-31T05:32:08.773001Z",
     "iopub.status.busy": "2023-03-31T05:32:08.771813Z",
     "iopub.status.idle": "2023-03-31T05:32:08.790670Z",
     "shell.execute_reply": "2023-03-31T05:32:08.789045Z",
     "shell.execute_reply.started": "2023-03-31T05:32:08.772953Z"
    }
   },
   "outputs": [
    {
     "name": "stdout",
     "output_type": "stream",
     "text": [
      "there is 130 of images of 0\n",
      "there is 130 of images of 1\n",
      "there is 130 of images of 2\n",
      "there is 130 of images of 3\n",
      "there is 130 of images of 4\n",
      "there is 130 of images of 5\n",
      "there is 130 of images of 6\n",
      "there is 130 of images of 7\n",
      "there is 130 of images of 8\n",
      "there is 130 of images of 9\n"
     ]
    }
   ],
   "source": [
    "for i in listOfSubNumberDict:\n",
    "      print(f'there is {len(os.listdir(f\"/kaggle/input/practice2/imgs/{i}\"))} of images of {i}')"
   ]
  },
  {
   "cell_type": "markdown",
   "metadata": {},
   "source": [
    "# converting all images of 0-9 to matrix in form of numpy array"
   ]
  },
  {
   "cell_type": "code",
   "execution_count": 12,
   "metadata": {
    "execution": {
     "iopub.execute_input": "2023-03-31T05:32:52.501530Z",
     "iopub.status.busy": "2023-03-31T05:32:52.501086Z",
     "iopub.status.idle": "2023-03-31T05:32:55.777434Z",
     "shell.execute_reply": "2023-03-31T05:32:55.776170Z",
     "shell.execute_reply.started": "2023-03-31T05:32:52.501488Z"
    }
   },
   "outputs": [],
   "source": [
    "img_extension = ['jpg']\n",
    "files = []\n",
    "\n",
    "for i in listOfSubNumberDict:\n",
    "    allImgPath = f'/kaggle/input/practice2/imgs/{i}/'\n",
    "    [files.extend(glob.glob(allImgPath + '*.' + e)) for e in img_extension]\n",
    "\n",
    "allImg = np.asarray([cv2.imread(file) for file in files])"
   ]
  },
  {
   "cell_type": "markdown",
   "metadata": {},
   "source": [
    "# getting information of matrix converted from images"
   ]
  },
  {
   "cell_type": "code",
   "execution_count": 13,
   "metadata": {
    "execution": {
     "iopub.execute_input": "2023-03-31T05:33:29.517304Z",
     "iopub.status.busy": "2023-03-31T05:33:29.516898Z",
     "iopub.status.idle": "2023-03-31T05:33:29.524365Z",
     "shell.execute_reply": "2023-03-31T05:33:29.523086Z",
     "shell.execute_reply.started": "2023-03-31T05:33:29.517271Z"
    }
   },
   "outputs": [
    {
     "name": "stdout",
     "output_type": "stream",
     "text": [
      "(1300, 70, 50, 3)\n",
      "(70, 50, 3)\n",
      "uint8\n",
      "<class 'numpy.ndarray'>\n",
      "1300\n"
     ]
    }
   ],
   "source": [
    "print(allImg.shape)\n",
    "print(allImg[0].shape)\n",
    "print(allImg.dtype)\n",
    "print(type(allImg))\n",
    "print(len(allImg))"
   ]
  },
  {
   "cell_type": "markdown",
   "metadata": {},
   "source": [
    "# labelling the list of images for training"
   ]
  },
  {
   "cell_type": "code",
   "execution_count": 14,
   "metadata": {
    "execution": {
     "iopub.execute_input": "2023-03-31T05:36:24.951360Z",
     "iopub.status.busy": "2023-03-31T05:36:24.950913Z",
     "iopub.status.idle": "2023-03-31T05:36:24.959068Z",
     "shell.execute_reply": "2023-03-31T05:36:24.957784Z",
     "shell.execute_reply.started": "2023-03-31T05:36:24.951325Z"
    }
   },
   "outputs": [],
   "source": [
    "counter = 0\n",
    "dig = 0\n",
    "labels = []\n",
    "for i in range(0,130):\n",
    "    labels.append(0)\n",
    "\n",
    "while(dig<=9):\n",
    "    if(counter%130==0):\n",
    "        dig +=1\n",
    "    labels.append(dig)\n",
    "    counter+=1\n",
    "labels.remove(10)\n",
    "labels = np.array(labels)"
   ]
  },
  {
   "cell_type": "markdown",
   "metadata": {},
   "source": [
    "# verifing the labels"
   ]
  },
  {
   "cell_type": "code",
   "execution_count": 15,
   "metadata": {
    "execution": {
     "iopub.execute_input": "2023-03-31T05:40:59.353031Z",
     "iopub.status.busy": "2023-03-31T05:40:59.351968Z",
     "iopub.status.idle": "2023-03-31T05:40:59.366174Z",
     "shell.execute_reply": "2023-03-31T05:40:59.364789Z",
     "shell.execute_reply.started": "2023-03-31T05:40:59.352982Z"
    }
   },
   "outputs": [
    {
     "name": "stdout",
     "output_type": "stream",
     "text": [
      "[0 0 0 ... 9 9 9]\n",
      "number of 0 is 130\n",
      "number of 1 is 130\n",
      "number of 2 is 130\n",
      "number of 3 is 130\n",
      "number of 4 is 130\n",
      "number of 5 is 130\n",
      "number of 6 is 130\n",
      "number of 7 is 130\n",
      "number of 8 is 130\n",
      "number of 9 is 130\n"
     ]
    }
   ],
   "source": [
    "print(labels)\n",
    "c=0\n",
    "for i in range(0,10):\n",
    "    for j in labels:\n",
    "        if i==j:\n",
    "            c += 1\n",
    "    print(f\"number of {i} is {c}\")\n",
    "    c = 0"
   ]
  },
  {
   "cell_type": "markdown",
   "metadata": {},
   "source": [
    "# scaling the matrix for getting values of each elements 0-1 that will optimise the training"
   ]
  },
  {
   "cell_type": "code",
   "execution_count": 16,
   "metadata": {
    "execution": {
     "iopub.execute_input": "2023-03-31T05:41:02.489552Z",
     "iopub.status.busy": "2023-03-31T05:41:02.489166Z",
     "iopub.status.idle": "2023-03-31T05:41:02.525663Z",
     "shell.execute_reply": "2023-03-31T05:41:02.524309Z",
     "shell.execute_reply.started": "2023-03-31T05:41:02.489518Z"
    }
   },
   "outputs": [],
   "source": [
    "for i in range(0, len(allImg)):\n",
    "    allImg[i] = allImg[i]/255\n"
   ]
  },
  {
   "cell_type": "markdown",
   "metadata": {},
   "source": [
    "# Train - Test Split for finding accuracy of unidentified images"
   ]
  },
  {
   "cell_type": "code",
   "execution_count": 17,
   "metadata": {
    "execution": {
     "iopub.execute_input": "2023-03-31T05:41:32.792507Z",
     "iopub.status.busy": "2023-03-31T05:41:32.792110Z",
     "iopub.status.idle": "2023-03-31T05:41:32.810832Z",
     "shell.execute_reply": "2023-03-31T05:41:32.809188Z",
     "shell.execute_reply.started": "2023-03-31T05:41:32.792474Z"
    }
   },
   "outputs": [],
   "source": [
    "X = allImg\n",
    "Y = np.asarray(labels)\n",
    "x_train , x_test , y_train , y_test = train_test_split(X,Y,test_size=0.2,random_state=1)"
   ]
  },
  {
   "cell_type": "markdown",
   "metadata": {},
   "source": [
    "# getting number of images splitted by train test split"
   ]
  },
  {
   "cell_type": "code",
   "execution_count": 18,
   "metadata": {
    "execution": {
     "iopub.execute_input": "2023-03-31T05:41:33.958996Z",
     "iopub.status.busy": "2023-03-31T05:41:33.958226Z",
     "iopub.status.idle": "2023-03-31T05:41:33.967522Z",
     "shell.execute_reply": "2023-03-31T05:41:33.966207Z",
     "shell.execute_reply.started": "2023-03-31T05:41:33.958948Z"
    }
   },
   "outputs": [
    {
     "name": "stdout",
     "output_type": "stream",
     "text": [
      "The X images are splitted into train set : 1040 test set : 260\n",
      "The Y labels are splitted into train set : 1040 test set : 260\n",
      "[[[1 1 1]\n",
      "  [1 1 1]\n",
      "  [1 1 1]\n",
      "  ...\n",
      "  [1 1 1]\n",
      "  [1 1 1]\n",
      "  [1 1 1]]\n",
      "\n",
      " [[1 1 1]\n",
      "  [1 1 1]\n",
      "  [1 1 1]\n",
      "  ...\n",
      "  [1 1 1]\n",
      "  [1 1 1]\n",
      "  [1 1 1]]\n",
      "\n",
      " [[1 1 1]\n",
      "  [1 1 1]\n",
      "  [1 1 1]\n",
      "  ...\n",
      "  [1 1 1]\n",
      "  [1 1 1]\n",
      "  [1 1 1]]\n",
      "\n",
      " ...\n",
      "\n",
      " [[1 1 1]\n",
      "  [1 1 1]\n",
      "  [1 1 1]\n",
      "  ...\n",
      "  [1 1 1]\n",
      "  [1 1 1]\n",
      "  [1 1 1]]\n",
      "\n",
      " [[1 1 1]\n",
      "  [1 1 1]\n",
      "  [1 1 1]\n",
      "  ...\n",
      "  [1 1 1]\n",
      "  [1 1 1]\n",
      "  [1 1 1]]\n",
      "\n",
      " [[1 1 1]\n",
      "  [1 1 1]\n",
      "  [1 1 1]\n",
      "  ...\n",
      "  [1 1 1]\n",
      "  [1 1 1]\n",
      "  [1 1 1]]]\n"
     ]
    }
   ],
   "source": [
    "print (f'The X images are splitted into train set : {len(x_train)} test set : {len(x_test)}')\n",
    "print (f'The Y labels are splitted into train set : {len(y_train)} test set : {len(y_test)}')\n",
    "print(x_train[0])"
   ]
  },
  {
   "cell_type": "markdown",
   "metadata": {},
   "source": [
    "# importing tensorflow for building the model"
   ]
  },
  {
   "cell_type": "code",
   "execution_count": 19,
   "metadata": {
    "execution": {
     "iopub.execute_input": "2023-03-31T05:41:39.274931Z",
     "iopub.status.busy": "2023-03-31T05:41:39.274382Z",
     "iopub.status.idle": "2023-03-31T05:41:48.777322Z",
     "shell.execute_reply": "2023-03-31T05:41:48.775679Z",
     "shell.execute_reply.started": "2023-03-31T05:41:39.274880Z"
    }
   },
   "outputs": [],
   "source": [
    "import tensorflow as tf"
   ]
  },
  {
   "cell_type": "markdown",
   "metadata": {},
   "source": [
    "# implementing neural network"
   ]
  },
  {
   "cell_type": "code",
   "execution_count": 20,
   "metadata": {
    "execution": {
     "iopub.execute_input": "2023-03-31T05:41:49.945945Z",
     "iopub.status.busy": "2023-03-31T05:41:49.945090Z",
     "iopub.status.idle": "2023-03-31T05:41:50.111184Z",
     "shell.execute_reply": "2023-03-31T05:41:50.110028Z",
     "shell.execute_reply.started": "2023-03-31T05:41:49.945900Z"
    }
   },
   "outputs": [],
   "source": [
    "model = tf.keras.models.Sequential()\n",
    "model.add(tf.keras.layers.Flatten())\n",
    "model.add(tf.keras.layers.Dense(128, activation=tf.nn.relu))\n",
    "model.add(tf.keras.layers.Dense(128, activation=tf.nn.relu))\n",
    "model.add(tf.keras.layers.Dense(10, activation=tf.nn.softmax))\n",
    "model.compile(optimizer='adam',\n",
    "              loss='sparse_categorical_crossentropy',\n",
    "              metrics=['accuracy'])"
   ]
  },
  {
   "cell_type": "markdown",
   "metadata": {},
   "source": [
    "# feed the model with our training matrix and testing labels"
   ]
  },
  {
   "cell_type": "code",
   "execution_count": 28,
   "metadata": {
    "execution": {
     "iopub.execute_input": "2023-03-31T05:46:09.072917Z",
     "iopub.status.busy": "2023-03-31T05:46:09.072523Z",
     "iopub.status.idle": "2023-03-31T05:46:13.563362Z",
     "shell.execute_reply": "2023-03-31T05:46:13.562158Z",
     "shell.execute_reply.started": "2023-03-31T05:46:09.072881Z"
    }
   },
   "outputs": [
    {
     "name": "stdout",
     "output_type": "stream",
     "text": [
      "Epoch 1/10\n",
      "33/33 [==============================] - 0s 14ms/step - loss: 0.1337 - accuracy: 0.9644\n",
      "Epoch 2/10\n",
      "33/33 [==============================] - 0s 13ms/step - loss: 0.1336 - accuracy: 0.9712\n",
      "Epoch 3/10\n",
      "33/33 [==============================] - 0s 13ms/step - loss: 0.0909 - accuracy: 0.9846\n",
      "Epoch 4/10\n",
      "33/33 [==============================] - 0s 13ms/step - loss: 0.0858 - accuracy: 0.9856\n",
      "Epoch 5/10\n",
      "33/33 [==============================] - 0s 13ms/step - loss: 0.0597 - accuracy: 0.9962\n",
      "Epoch 6/10\n",
      "33/33 [==============================] - 0s 13ms/step - loss: 0.0424 - accuracy: 0.9971\n",
      "Epoch 7/10\n",
      "33/33 [==============================] - 0s 13ms/step - loss: 0.0364 - accuracy: 1.0000\n",
      "Epoch 8/10\n",
      "33/33 [==============================] - 0s 13ms/step - loss: 0.0285 - accuracy: 1.0000\n",
      "Epoch 9/10\n",
      "33/33 [==============================] - 0s 13ms/step - loss: 0.0273 - accuracy: 1.0000\n",
      "Epoch 10/10\n",
      "33/33 [==============================] - 0s 13ms/step - loss: 0.0207 - accuracy: 1.0000\n"
     ]
    },
    {
     "data": {
      "text/plain": [
       "<keras.callbacks.History at 0x7fd40ee6d1d0>"
      ]
     },
     "execution_count": 28,
     "metadata": {},
     "output_type": "execute_result"
    }
   ],
   "source": [
    "model.fit(x_train, y_train, epochs=10)"
   ]
  },
  {
   "cell_type": "markdown",
   "metadata": {},
   "source": [
    "# finding loss and accuracy of unidentified images"
   ]
  },
  {
   "cell_type": "code",
   "execution_count": 29,
   "metadata": {
    "execution": {
     "iopub.execute_input": "2023-03-31T05:46:13.565570Z",
     "iopub.status.busy": "2023-03-31T05:46:13.565029Z",
     "iopub.status.idle": "2023-03-31T05:46:13.672882Z",
     "shell.execute_reply": "2023-03-31T05:46:13.671952Z",
     "shell.execute_reply.started": "2023-03-31T05:46:13.565536Z"
    }
   },
   "outputs": [
    {
     "name": "stdout",
     "output_type": "stream",
     "text": [
      "9/9 [==============================] - 0s 4ms/step - loss: 0.9341 - accuracy: 0.7538\n",
      "0.9341462254524231\n",
      "75.38461685180664\n"
     ]
    }
   ],
   "source": [
    "val_loss, val_acc = model.evaluate(x_test, y_test)\n",
    "print(val_loss)\n",
    "print(val_acc*100)"
   ]
  }
 ],
 "metadata": {
  "kernelspec": {
   "display_name": "Python 3 (ipykernel)",
   "language": "python",
   "name": "python3"
  },
  "language_info": {
   "codemirror_mode": {
    "name": "ipython",
    "version": 3
   },
   "file_extension": ".py",
   "mimetype": "text/x-python",
   "name": "python",
   "nbconvert_exporter": "python",
   "pygments_lexer": "ipython3",
   "version": "3.11.2"
  }
 },
 "nbformat": 4,
 "nbformat_minor": 4
}
