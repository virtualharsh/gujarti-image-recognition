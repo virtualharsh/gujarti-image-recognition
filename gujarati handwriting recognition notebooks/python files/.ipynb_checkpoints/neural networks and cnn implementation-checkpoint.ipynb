{
 "cells": [
  {
   "cell_type": "markdown",
   "metadata": {
    "_cell_guid": "b1076dfc-b9ad-4769-8c92-a6c4dae69d19",
    "_uuid": "8f2839f25d086af736a60e9eeb907d3b93b6e0e5"
   },
   "source": [
    "# Importing required libraries"
   ]
  },
  {
   "cell_type": "code",
   "execution_count": 1,
   "metadata": {
    "execution": {
     "iopub.execute_input": "2023-05-16T03:05:51.648838Z",
     "iopub.status.busy": "2023-05-16T03:05:51.648422Z",
     "iopub.status.idle": "2023-05-16T03:05:53.295803Z",
     "shell.execute_reply": "2023-05-16T03:05:53.294720Z",
     "shell.execute_reply.started": "2023-05-16T03:05:51.648802Z"
    }
   },
   "outputs": [],
   "source": [
    "import numpy as np # for matrix calculations\n",
    "import os # for file hiearchy handling\n",
    "import matplotlib.pyplot as plt # plotting the images and data\n",
    "import matplotlib.image as mpimg # reading the images\n",
    "from  sklearn.model_selection import train_test_split # for preprocessing \n",
    "from PIL import Image # image processing\n",
    "import glob # file handing and folder scanner\n",
    "import cv2 # for converting images to matrix"
   ]
  },
  {
   "cell_type": "markdown",
   "metadata": {},
   "source": [
    "# Getting folder paths of each images in list"
   ]
  },
  {
   "cell_type": "code",
   "execution_count": 2,
   "metadata": {
    "execution": {
     "iopub.execute_input": "2023-05-16T03:05:53.298868Z",
     "iopub.status.busy": "2023-05-16T03:05:53.297980Z",
     "iopub.status.idle": "2023-05-16T03:05:53.315851Z",
     "shell.execute_reply": "2023-05-16T03:05:53.314250Z",
     "shell.execute_reply.started": "2023-05-16T03:05:53.298812Z"
    }
   },
   "outputs": [
    {
     "name": "stdout",
     "output_type": "stream",
     "text": [
      "['0', '1', '2', '3', '4', '5', '6', '7', '8', '9']\n"
     ]
    }
   ],
   "source": [
    "listOfSubNumberDict = os.listdir(\"/kaggle/input/practice2/imgs\")\n",
    "path = '/kaggle/input/practice2/imgs/'\n",
    "listOfSubNumberDict.sort()\n",
    "print(listOfSubNumberDict)"
   ]
  },
  {
   "cell_type": "markdown",
   "metadata": {},
   "source": [
    "# getting data from images and display images"
   ]
  },
  {
   "cell_type": "code",
   "execution_count": 3,
   "metadata": {
    "execution": {
     "iopub.execute_input": "2023-05-16T03:05:53.318401Z",
     "iopub.status.busy": "2023-05-16T03:05:53.317921Z",
     "iopub.status.idle": "2023-05-16T03:05:53.352300Z",
     "shell.execute_reply": "2023-05-16T03:05:53.350940Z",
     "shell.execute_reply.started": "2023-05-16T03:05:53.318352Z"
    }
   },
   "outputs": [
    {
     "name": "stdout",
     "output_type": "stream",
     "text": [
      "The height of the image is:  70\n",
      "The width of the image is:  50\n"
     ]
    },
    {
     "data": {
      "image/png": "[encoded data removed]",
      "text/plain": [
       "<PIL.JpegImagePlugin.JpegImageFile image mode=L size=50x70>"
      ]
     },
     "execution_count": 3,
     "metadata": {},
     "output_type": "execute_result"
    }
   ],
   "source": [
    "# getting views of images in dataset\n",
    "filepath = \"/kaggle/input/practice2/imgs/0/1.jpg\"\n",
    "img = Image.open(filepath)\n",
    "  \n",
    "# get width and height\n",
    "width = img.width\n",
    "height = img.height\n",
    "  \n",
    "# display width and height\n",
    "print(\"The height of the image is: \", height)\n",
    "print(\"The width of the image is: \", width)\n",
    "\n",
    "Image.open(\"/kaggle/input/practice2/imgs/0/1.jpg\")"
   ]
  },
  {
   "cell_type": "markdown",
   "metadata": {},
   "source": [
    "# finding number of images in each folder"
   ]
  },
  {
   "cell_type": "code",
   "execution_count": 4,
   "metadata": {
    "execution": {
     "iopub.execute_input": "2023-05-16T03:05:53.357211Z",
     "iopub.status.busy": "2023-05-16T03:05:53.356277Z",
     "iopub.status.idle": "2023-05-16T03:05:53.534655Z",
     "shell.execute_reply": "2023-05-16T03:05:53.533288Z",
     "shell.execute_reply.started": "2023-05-16T03:05:53.357157Z"
    }
   },
   "outputs": [
    {
     "name": "stdout",
     "output_type": "stream",
     "text": [
      "there is 130 of images of 0\n",
      "there is 130 of images of 1\n",
      "there is 130 of images of 2\n",
      "there is 130 of images of 3\n",
      "there is 130 of images of 4\n",
      "there is 130 of images of 5\n",
      "there is 130 of images of 6\n",
      "there is 130 of images of 7\n",
      "there is 130 of images of 8\n",
      "there is 130 of images of 9\n"
     ]
    }
   ],
   "source": [
    "for i in listOfSubNumberDict:\n",
    "      print(f'there is {len(os.listdir(f\"/kaggle/input/practice2/imgs/{i}\"))} of images of {i}')"
   ]
  },
  {
   "cell_type": "markdown",
   "metadata": {},
   "source": [
    "# converting all images of 0-9 to matrix in form of numpy array"
   ]
  },
  {
   "cell_type": "code",
   "execution_count": 5,
   "metadata": {
    "execution": {
     "iopub.execute_input": "2023-05-16T03:05:53.537405Z",
     "iopub.status.busy": "2023-05-16T03:05:53.536587Z",
     "iopub.status.idle": "2023-05-16T03:05:58.007810Z",
     "shell.execute_reply": "2023-05-16T03:05:58.006579Z",
     "shell.execute_reply.started": "2023-05-16T03:05:53.537350Z"
    }
   },
   "outputs": [],
   "source": [
    "img_extension = ['jpg']\n",
    "files = []\n",
    "\n",
    "for i in listOfSubNumberDict:\n",
    "    allImgPath = f'/kaggle/input/practice2/imgs/{i}/'\n",
    "    [files.extend(glob.glob(allImgPath + '*.' + e)) for e in img_extension]\n",
    "\n",
    "allImg = np.asarray([cv2.imread(file) for file in files])"
   ]
  },
  {
   "cell_type": "markdown",
   "metadata": {},
   "source": [
    "# getting information of matrix converted from images"
   ]
  },
  {
   "cell_type": "code",
   "execution_count": 6,
   "metadata": {
    "execution": {
     "iopub.execute_input": "2023-05-16T03:05:58.010018Z",
     "iopub.status.busy": "2023-05-16T03:05:58.009629Z",
     "iopub.status.idle": "2023-05-16T03:05:58.017699Z",
     "shell.execute_reply": "2023-05-16T03:05:58.016239Z",
     "shell.execute_reply.started": "2023-05-16T03:05:58.009982Z"
    }
   },
   "outputs": [
    {
     "name": "stdout",
     "output_type": "stream",
     "text": [
      "(1300, 70, 50, 3)\n",
      "(70, 50, 3)\n",
      "uint8\n",
      "<class 'numpy.ndarray'>\n",
      "1300\n"
     ]
    }
   ],
   "source": [
    "print(allImg.shape)\n",
    "print(allImg[0].shape)\n",
    "print(allImg.dtype)\n",
    "print(type(allImg))\n",
    "print(len(allImg))"
   ]
  },
  {
   "cell_type": "markdown",
   "metadata": {},
   "source": [
    "# labelling the list of images for training"
   ]
  },
  {
   "cell_type": "code",
   "execution_count": 7,
   "metadata": {
    "execution": {
     "iopub.execute_input": "2023-05-16T03:05:58.019594Z",
     "iopub.status.busy": "2023-05-16T03:05:58.019184Z",
     "iopub.status.idle": "2023-05-16T03:05:58.030943Z",
     "shell.execute_reply": "2023-05-16T03:05:58.029843Z",
     "shell.execute_reply.started": "2023-05-16T03:05:58.019508Z"
    }
   },
   "outputs": [],
   "source": [
    "counter = 0\n",
    "dig = 0\n",
    "labels = []\n",
    "for i in range(0,130):\n",
    "    labels.append(0)\n",
    "\n",
    "while(dig<=9):\n",
    "    if(counter%130==0):\n",
    "        dig +=1\n",
    "    labels.append(dig)\n",
    "    counter+=1\n",
    "labels.remove(10)\n",
    "labels = np.array(labels)"
   ]
  },
  {
   "cell_type": "markdown",
   "metadata": {},
   "source": [
    "# verifing the labels"
   ]
  },
  {
   "cell_type": "code",
   "execution_count": 8,
   "metadata": {
    "execution": {
     "iopub.execute_input": "2023-05-16T03:05:58.032824Z",
     "iopub.status.busy": "2023-05-16T03:05:58.032410Z",
     "iopub.status.idle": "2023-05-16T03:05:58.054495Z",
     "shell.execute_reply": "2023-05-16T03:05:58.052874Z",
     "shell.execute_reply.started": "2023-05-16T03:05:58.032785Z"
    }
   },
   "outputs": [
    {
     "name": "stdout",
     "output_type": "stream",
     "text": [
      "[0 0 0 ... 9 9 9]\n",
      "number of 0 is 130\n",
      "number of 1 is 130\n",
      "number of 2 is 130\n",
      "number of 3 is 130\n",
      "number of 4 is 130\n",
      "number of 5 is 130\n",
      "number of 6 is 130\n",
      "number of 7 is 130\n",
      "number of 8 is 130\n",
      "number of 9 is 130\n"
     ]
    }
   ],
   "source": [
    "print(labels)\n",
    "c=0\n",
    "for i in range(0,10):\n",
    "    for j in labels:\n",
    "        if i==j:\n",
    "            c += 1\n",
    "    print(f\"number of {i} is {c}\")\n",
    "    c = 0"
   ]
  },
  {
   "cell_type": "markdown",
   "metadata": {},
   "source": [
    "# scaling the matrix for getting values of each elements 0-1 that will optimise the training"
   ]
  },
  {
   "cell_type": "code",
   "execution_count": 9,
   "metadata": {
    "execution": {
     "iopub.execute_input": "2023-05-16T03:05:58.056297Z",
     "iopub.status.busy": "2023-05-16T03:05:58.055901Z",
     "iopub.status.idle": "2023-05-16T03:05:58.099096Z",
     "shell.execute_reply": "2023-05-16T03:05:58.097868Z",
     "shell.execute_reply.started": "2023-05-16T03:05:58.056240Z"
    }
   },
   "outputs": [],
   "source": [
    "for i in range(0, len(allImg)):\n",
    "    allImg[i] = allImg[i]/255\n"
   ]
  },
  {
   "cell_type": "markdown",
   "metadata": {},
   "source": [
    "# Train - Test Split for finding accuracy of unidentified images"
   ]
  },
  {
   "cell_type": "code",
   "execution_count": 10,
   "metadata": {
    "execution": {
     "iopub.execute_input": "2023-05-16T03:05:58.103625Z",
     "iopub.status.busy": "2023-05-16T03:05:58.103192Z",
     "iopub.status.idle": "2023-05-16T03:05:58.122235Z",
     "shell.execute_reply": "2023-05-16T03:05:58.120081Z",
     "shell.execute_reply.started": "2023-05-16T03:05:58.103582Z"
    }
   },
   "outputs": [],
   "source": [
    "X = allImg\n",
    "Y = np.asarray(labels)\n",
    "x_train , x_test , y_train , y_test = train_test_split(X,Y,test_size=0.2,random_state=1)"
   ]
  },
  {
   "cell_type": "markdown",
   "metadata": {},
   "source": [
    "# getting number of images splitted by train test split"
   ]
  },
  {
   "cell_type": "code",
   "execution_count": 11,
   "metadata": {
    "execution": {
     "iopub.execute_input": "2023-05-16T03:05:58.124903Z",
     "iopub.status.busy": "2023-05-16T03:05:58.124520Z",
     "iopub.status.idle": "2023-05-16T03:05:58.134919Z",
     "shell.execute_reply": "2023-05-16T03:05:58.133348Z",
     "shell.execute_reply.started": "2023-05-16T03:05:58.124866Z"
    }
   },
   "outputs": [
    {
     "name": "stdout",
     "output_type": "stream",
     "text": [
      "The X images are splitted into train set : 1040 test set : 260\n",
      "The Y labels are splitted into train set : 1040 test set : 260\n",
      "[[[1 1 1]\n",
      "  [1 1 1]\n",
      "  [1 1 1]\n",
      "  ...\n",
      "  [1 1 1]\n",
      "  [1 1 1]\n",
      "  [1 1 1]]\n",
      "\n",
      " [[1 1 1]\n",
      "  [1 1 1]\n",
      "  [1 1 1]\n",
      "  ...\n",
      "  [1 1 1]\n",
      "  [1 1 1]\n",
      "  [1 1 1]]\n",
      "\n",
      " [[1 1 1]\n",
      "  [1 1 1]\n",
      "  [1 1 1]\n",
      "  ...\n",
      "  [1 1 1]\n",
      "  [1 1 1]\n",
      "  [1 1 1]]\n",
      "\n",
      " ...\n",
      "\n",
      " [[1 1 1]\n",
      "  [1 1 1]\n",
      "  [1 1 1]\n",
      "  ...\n",
      "  [1 1 1]\n",
      "  [1 1 1]\n",
      "  [1 1 1]]\n",
      "\n",
      " [[1 1 1]\n",
      "  [1 1 1]\n",
      "  [1 1 1]\n",
      "  ...\n",
      "  [1 1 1]\n",
      "  [1 1 1]\n",
      "  [1 1 1]]\n",
      "\n",
      " [[1 1 1]\n",
      "  [1 1 1]\n",
      "  [1 1 1]\n",
      "  ...\n",
      "  [1 1 1]\n",
      "  [1 1 1]\n",
      "  [1 1 1]]]\n"
     ]
    }
   ],
   "source": [
    "print (f'The X images are splitted into train set : {len(x_train)} test set : {len(x_test)}')\n",
    "print (f'The Y labels are splitted into train set : {len(y_train)} test set : {len(y_test)}')\n",
    "print(x_train[0])"
   ]
  },
  {
   "cell_type": "markdown",
   "metadata": {},
   "source": [
    "# importing tensorflow for building the model"
   ]
  },
  {
   "cell_type": "code",
   "execution_count": 12,
   "metadata": {
    "execution": {
     "iopub.execute_input": "2023-05-16T03:05:58.137336Z",
     "iopub.status.busy": "2023-05-16T03:05:58.136894Z",
     "iopub.status.idle": "2023-05-16T03:06:08.834593Z",
     "shell.execute_reply": "2023-05-16T03:06:08.833123Z",
     "shell.execute_reply.started": "2023-05-16T03:05:58.137294Z"
    }
   },
   "outputs": [],
   "source": [
    "import tensorflow as tf"
   ]
  },
  {
   "cell_type": "markdown",
   "metadata": {},
   "source": [
    "# implementing neural network"
   ]
  },
  {
   "cell_type": "code",
   "execution_count": 16,
   "metadata": {
    "execution": {
     "iopub.execute_input": "2023-05-16T03:07:29.209531Z",
     "iopub.status.busy": "2023-05-16T03:07:29.208973Z",
     "iopub.status.idle": "2023-05-16T03:07:29.240369Z",
     "shell.execute_reply": "2023-05-16T03:07:29.238694Z",
     "shell.execute_reply.started": "2023-05-16T03:07:29.209487Z"
    }
   },
   "outputs": [],
   "source": [
    "model = tf.keras.models.Sequential()\n",
    "model.add(tf.keras.layers.Flatten())\n",
    "model.add(tf.keras.layers.Dense(128, activation=tf.nn.relu))\n",
    "model.add(tf.keras.layers.Dense(128, activation=tf.nn.relu))\n",
    "model.add(tf.keras.layers.Dense(10, activation=tf.nn.softmax))\n",
    "model.compile(optimizer='adam',\n",
    "              loss='sparse_categorical_crossentropy',\n",
    "              metrics=['accuracy'])"
   ]
  },
  {
   "cell_type": "markdown",
   "metadata": {},
   "source": [
    "# feed the model with our training matrix and testing labels"
   ]
  },
  {
   "cell_type": "code",
   "execution_count": 17,
   "metadata": {
    "execution": {
     "iopub.execute_input": "2023-05-16T03:07:31.927687Z",
     "iopub.status.busy": "2023-05-16T03:07:31.927192Z",
     "iopub.status.idle": "2023-05-16T03:07:37.767447Z",
     "shell.execute_reply": "2023-05-16T03:07:37.766256Z",
     "shell.execute_reply.started": "2023-05-16T03:07:31.927646Z"
    }
   },
   "outputs": [
    {
     "name": "stdout",
     "output_type": "stream",
     "text": [
      "Epoch 1/10\n",
      "33/33 [==============================] - 1s 14ms/step - loss: 2.8251 - accuracy: 0.2529\n",
      "Epoch 2/10\n",
      "33/33 [==============================] - 0s 15ms/step - loss: 1.3050 - accuracy: 0.5760\n",
      "Epoch 3/10\n",
      "33/33 [==============================] - 0s 15ms/step - loss: 0.8494 - accuracy: 0.7240\n",
      "Epoch 4/10\n",
      "33/33 [==============================] - 0s 14ms/step - loss: 0.8794 - accuracy: 0.7260\n",
      "Epoch 5/10\n",
      "33/33 [==============================] - 0s 15ms/step - loss: 0.7080 - accuracy: 0.7731\n",
      "Epoch 6/10\n",
      "33/33 [==============================] - 0s 15ms/step - loss: 0.6567 - accuracy: 0.7769\n",
      "Epoch 7/10\n",
      "33/33 [==============================] - 0s 15ms/step - loss: 0.5724 - accuracy: 0.8202\n",
      "Epoch 8/10\n",
      "33/33 [==============================] - 0s 15ms/step - loss: 0.4198 - accuracy: 0.8663\n",
      "Epoch 9/10\n",
      "33/33 [==============================] - 0s 15ms/step - loss: 0.4765 - accuracy: 0.8288\n",
      "Epoch 10/10\n",
      "33/33 [==============================] - 1s 15ms/step - loss: 0.3843 - accuracy: 0.8731\n"
     ]
    },
    {
     "data": {
      "text/plain": [
       "<keras.callbacks.History at 0x792fe0341b10>"
      ]
     },
     "execution_count": 17,
     "metadata": {},
     "output_type": "execute_result"
    }
   ],
   "source": [
    "model.fit(x_train, y_train, epochs=10)"
   ]
  },
  {
   "cell_type": "markdown",
   "metadata": {},
   "source": [
    "# finding loss and accuracy of unidentified images"
   ]
  },
  {
   "cell_type": "code",
   "execution_count": 18,
   "metadata": {
    "execution": {
     "iopub.execute_input": "2023-05-16T03:07:37.770061Z",
     "iopub.status.busy": "2023-05-16T03:07:37.769385Z",
     "iopub.status.idle": "2023-05-16T03:07:38.025779Z",
     "shell.execute_reply": "2023-05-16T03:07:38.024752Z",
     "shell.execute_reply.started": "2023-05-16T03:07:37.770020Z"
    }
   },
   "outputs": [
    {
     "name": "stdout",
     "output_type": "stream",
     "text": [
      "9/9 [==============================] - 0s 5ms/step - loss: 0.9190 - accuracy: 0.7077\n",
      "0.9189915657043457\n",
      "70.76923251152039\n"
     ]
    }
   ],
   "source": [
    "val_loss, val_acc = model.evaluate(x_test, y_test)\n",
    "print(val_loss)\n",
    "print(val_acc*100)"
   ]
  },
  {
   "cell_type": "markdown",
   "metadata": {},
   "source": [
    "# implementing model with CNN"
   ]
  },
  {
   "cell_type": "code",
   "execution_count": 21,
   "metadata": {
    "execution": {
     "iopub.execute_input": "2023-05-16T03:20:16.566592Z",
     "iopub.status.busy": "2023-05-16T03:20:16.564935Z",
     "iopub.status.idle": "2023-05-16T03:20:16.576108Z",
     "shell.execute_reply": "2023-05-16T03:20:16.574548Z",
     "shell.execute_reply.started": "2023-05-16T03:20:16.566505Z"
    }
   },
   "outputs": [],
   "source": [
    "from tensorflow.keras.models import Sequential\n",
    "from tensorflow.keras.layers import Dense,Dropout,Activation,Flatten,Conv2D,MaxPooling2D"
   ]
  },
  {
   "cell_type": "code",
   "execution_count": 28,
   "metadata": {
    "execution": {
     "iopub.execute_input": "2023-05-16T03:23:10.646107Z",
     "iopub.status.busy": "2023-05-16T03:23:10.645519Z",
     "iopub.status.idle": "2023-05-16T03:23:10.793151Z",
     "shell.execute_reply": "2023-05-16T03:23:10.791733Z",
     "shell.execute_reply.started": "2023-05-16T03:23:10.646066Z"
    }
   },
   "outputs": [],
   "source": [
    "cnnmodel = Sequential()\n",
    "\n",
    "cnnmodel.add(Conv2D(64,(3,3),input_shape = x_train[0].shape))\n",
    "cnnmodel.add(Activation(\"relu\"))\n",
    "cnnmodel.add(MaxPooling2D(pool_size=(2,2)))\n",
    "\n",
    "\n",
    "cnnmodel.add(Conv2D(64,(3,3)))\n",
    "cnnmodel.add(Activation(\"relu\"))\n",
    "cnnmodel.add(MaxPooling2D(pool_size=(2,2)))\n",
    "\n",
    "\n",
    "cnnmodel.add(Conv2D(64,(3,3)))\n",
    "cnnmodel.add(Activation(\"relu\"))\n",
    "cnnmodel.add(MaxPooling2D(pool_size=(2,2)))\n",
    "\n",
    "             \n",
    "cnnmodel.add(Flatten())\n",
    "cnnmodel.add(Dense(64))\n",
    "cnnmodel.add(Activation(\"relu\"))\n",
    "\n",
    "cnnmodel.add(Dense(32))\n",
    "cnnmodel.add(Activation(\"relu\"))\n",
    "\n",
    "\n",
    "cnnmodel.add(Dense(10))\n",
    "cnnmodel.add(Activation(\"softmax\"))\n",
    "             "
   ]
  },
  {
   "cell_type": "code",
   "execution_count": 29,
   "metadata": {
    "execution": {
     "iopub.execute_input": "2023-05-16T03:23:12.355383Z",
     "iopub.status.busy": "2023-05-16T03:23:12.354864Z",
     "iopub.status.idle": "2023-05-16T03:23:12.418745Z",
     "shell.execute_reply": "2023-05-16T03:23:12.417253Z",
     "shell.execute_reply.started": "2023-05-16T03:23:12.355339Z"
    }
   },
   "outputs": [
    {
     "name": "stdout",
     "output_type": "stream",
     "text": [
      "Model: \"sequential_4\"\n",
      "_________________________________________________________________\n",
      " Layer (type)                Output Shape              Param #   \n",
      "=================================================================\n",
      " conv2d_6 (Conv2D)           (None, 68, 48, 64)        1792      \n",
      "                                                                 \n",
      " activation_12 (Activation)  (None, 68, 48, 64)        0         \n",
      "                                                                 \n",
      " max_pooling2d_6 (MaxPooling  (None, 34, 24, 64)       0         \n",
      " 2D)                                                             \n",
      "                                                                 \n",
      " conv2d_7 (Conv2D)           (None, 32, 22, 64)        36928     \n",
      "                                                                 \n",
      " activation_13 (Activation)  (None, 32, 22, 64)        0         \n",
      "                                                                 \n",
      " max_pooling2d_7 (MaxPooling  (None, 16, 11, 64)       0         \n",
      " 2D)                                                             \n",
      "                                                                 \n",
      " conv2d_8 (Conv2D)           (None, 14, 9, 64)         36928     \n",
      "                                                                 \n",
      " activation_14 (Activation)  (None, 14, 9, 64)         0         \n",
      "                                                                 \n",
      " max_pooling2d_8 (MaxPooling  (None, 7, 4, 64)         0         \n",
      " 2D)                                                             \n",
      "                                                                 \n",
      " flatten_4 (Flatten)         (None, 1792)              0         \n",
      "                                                                 \n",
      " dense_12 (Dense)            (None, 64)                114752    \n",
      "                                                                 \n",
      " activation_15 (Activation)  (None, 64)                0         \n",
      "                                                                 \n",
      " dense_13 (Dense)            (None, 32)                2080      \n",
      "                                                                 \n",
      " activation_16 (Activation)  (None, 32)                0         \n",
      "                                                                 \n",
      " dense_14 (Dense)            (None, 10)                330       \n",
      "                                                                 \n",
      " activation_17 (Activation)  (None, 10)                0         \n",
      "                                                                 \n",
      "=================================================================\n",
      "Total params: 192,810\n",
      "Trainable params: 192,810\n",
      "Non-trainable params: 0\n",
      "_________________________________________________________________\n"
     ]
    }
   ],
   "source": [
    "cnnmodel.summary()"
   ]
  },
  {
   "cell_type": "code",
   "execution_count": 30,
   "metadata": {
    "execution": {
     "iopub.execute_input": "2023-05-16T03:23:13.674891Z",
     "iopub.status.busy": "2023-05-16T03:23:13.674406Z",
     "iopub.status.idle": "2023-05-16T03:23:13.692638Z",
     "shell.execute_reply": "2023-05-16T03:23:13.691030Z",
     "shell.execute_reply.started": "2023-05-16T03:23:13.674848Z"
    }
   },
   "outputs": [],
   "source": [
    "cnnmodel.compile(optimizer='adam',\n",
    "              loss='sparse_categorical_crossentropy',\n",
    "              metrics=['accuracy'])"
   ]
  },
  {
   "cell_type": "code",
   "execution_count": 33,
   "metadata": {
    "execution": {
     "iopub.execute_input": "2023-05-16T03:24:24.177143Z",
     "iopub.status.busy": "2023-05-16T03:24:24.175998Z",
     "iopub.status.idle": "2023-05-16T03:25:05.227775Z",
     "shell.execute_reply": "2023-05-16T03:25:05.225825Z",
     "shell.execute_reply.started": "2023-05-16T03:24:24.177081Z"
    }
   },
   "outputs": [
    {
     "name": "stdout",
     "output_type": "stream",
     "text": [
      "Epoch 1/7\n",
      "33/33 [==============================] - 5s 154ms/step - loss: 0.3221 - accuracy: 0.8971\n",
      "Epoch 2/7\n",
      "33/33 [==============================] - 5s 150ms/step - loss: 0.2835 - accuracy: 0.9010\n",
      "Epoch 3/7\n",
      "33/33 [==============================] - 5s 148ms/step - loss: 0.1863 - accuracy: 0.9394\n",
      "Epoch 4/7\n",
      "33/33 [==============================] - 5s 163ms/step - loss: 0.1331 - accuracy: 0.9567\n",
      "Epoch 5/7\n",
      "33/33 [==============================] - 5s 149ms/step - loss: 0.0977 - accuracy: 0.9702\n",
      "Epoch 6/7\n",
      "33/33 [==============================] - 5s 151ms/step - loss: 0.0694 - accuracy: 0.9798\n",
      "Epoch 7/7\n",
      "33/33 [==============================] - 5s 149ms/step - loss: 0.0434 - accuracy: 0.9856\n"
     ]
    },
    {
     "data": {
      "text/plain": [
       "<keras.callbacks.History at 0x792f9ff167d0>"
      ]
     },
     "execution_count": 33,
     "metadata": {},
     "output_type": "execute_result"
    }
   ],
   "source": [
    "cnnmodel.fit(x_train,y_train,epochs=7)"
   ]
  },
  {
   "cell_type": "code",
   "execution_count": 34,
   "metadata": {
    "execution": {
     "iopub.execute_input": "2023-05-16T03:25:26.285202Z",
     "iopub.status.busy": "2023-05-16T03:25:26.284696Z",
     "iopub.status.idle": "2023-05-16T03:25:26.886642Z",
     "shell.execute_reply": "2023-05-16T03:25:26.885195Z",
     "shell.execute_reply.started": "2023-05-16T03:25:26.285160Z"
    }
   },
   "outputs": [
    {
     "name": "stdout",
     "output_type": "stream",
     "text": [
      "9/9 [==============================] - 1s 37ms/step - loss: 0.4586 - accuracy: 0.9000\n",
      "0.4585799276828766\n",
      "89.99999761581421\n"
     ]
    }
   ],
   "source": [
    "val_loss, val_acc = cnnmodel.evaluate(x_test, y_test)\n",
    "print(val_loss)\n",
    "print(val_acc*100)"
   ]
  },
  {
   "cell_type": "code",
   "execution_count": null,
   "metadata": {},
   "outputs": [],
   "source": []
  }
 ],
 "metadata": {
  "kernelspec": {
   "display_name": "Python 3 (ipykernel)",
   "language": "python",
   "name": "python3"
  },
  "language_info": {
   "codemirror_mode": {
    "name": "ipython",
    "version": 3
   },
   "file_extension": ".py",
   "mimetype": "text/x-python",
   "name": "python",
   "nbconvert_exporter": "python",
   "pygments_lexer": "ipython3",
   "version": "3.11.2"
  }
 },
 "nbformat": 4,
 "nbformat_minor": 4
}
